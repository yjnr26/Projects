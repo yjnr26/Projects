{
  "nbformat": 4,
  "nbformat_minor": 0,
  "metadata": {
    "colab": {
      "provenance": []
    },
    "kernelspec": {
      "name": "python3",
      "display_name": "Python 3"
    },
    "language_info": {
      "name": "python"
    }
  },
  "cells": [
    {
      "cell_type": "code",
      "source": [
        "import pandas as pd\n",
        "import numpy as np\n",
        "import matplotlib.pyplot as plt\n",
        "import keras\n",
        "from keras.datasets import mnist\n",
        "\n",
        "np.random.seed(2023)\n",
        "\n",
        "# To Load data\n",
        "(x_train, y_train), (x_test, y_test) = mnist.load_data()"
      ],
      "metadata": {
        "id": "0PrO3EUxIVRn"
      },
      "execution_count": 4,
      "outputs": []
    },
    {
      "cell_type": "code",
      "source": [
        "# To Plot the first 5 images of x_train\n",
        "fig, ax = plt.subplots(nrows=1, ncols=5, figsize=(10, 2))\n",
        "for i in range(5):\n",
        "    ax[i].imshow(x_train[i], cmap='gray')\n",
        "plt.show()\n",
        "\n",
        "# To Flatten the inputs\n",
        "x_train = x_train.reshape((x_train.shape[0], 784))\n",
        "x_test = x_test.reshape((x_test.shape[0], 784))\n",
        "\n",
        "# To Convert datatype to float\n",
        "x_train = x_train.astype('float32')\n",
        "x_test = x_test.astype('float32')"
      ],
      "metadata": {
        "colab": {
          "base_uri": "https://localhost:8080/",
          "height": 197
        },
        "id": "65B9rQHOIaCR",
        "outputId": "35e8fa58-9197-47c5-f6ee-1f77d11cc9f1"
      },
      "execution_count": 5,
      "outputs": [
        {
          "output_type": "display_data",
          "data": {
            "text/plain": [
              "<Figure size 1000x200 with 5 Axes>"
            ],
            "image/png": "[encoded data removed]"
          },
          "metadata": {}
        }
      ]
    },
    {
      "cell_type": "code",
      "source": [
        "# To Normalize the ranges of values\n",
        "x_train /= 255\n",
        "x_test /= 255\n",
        "\n",
        "# To Print the shapes of x_train and y_train after preprocessing\n",
        "print('x_train shape:', x_train.shape)\n",
        "print('y_train shape:', y_train.shape)"
      ],
      "metadata": {
        "colab": {
          "base_uri": "https://localhost:8080/"
        },
        "id": "ycO2qxD8IfY0",
        "outputId": "68d8077a-3c26-46a1-bc6b-96ef420aca03"
      },
      "execution_count": 6,
      "outputs": [
        {
          "output_type": "stream",
          "name": "stdout",
          "text": [
            "x_train shape: (60000, 784)\n",
            "y_train shape: (60000,)\n"
          ]
        }
      ]
    },
    {
      "cell_type": "code",
      "source": [
        "from sklearn.metrics import accuracy_score, confusion_matrix\n",
        "from sklearn.ensemble import RandomForestClassifier\n",
        "from sklearn.model_selection import GridSearchCV\n",
        "from keras.models import Sequential\n",
        "from keras.layers import Dense\n",
        "from keras.layers import Dense, Dropout, Flatten\n",
        "from keras.optimizers import Adam\n",
        "\n",
        "# To Define the neural network model\n",
        "model_nn = Sequential()\n",
        "model_nn.add(Dense(512, activation='relu', input_shape=(784,)))\n",
        "model_nn.add(Dropout(0.2))\n",
        "model_nn.add(Dense(10, activation='softmax'))\n",
        "\n",
        "# To Compile the model\n",
        "model_nn.compile(loss='sparse_categorical_crossentropy', optimizer=Adam(lr=0.001), metrics=['accuracy'])\n",
        "\n",
        "# To Train the neural network model\n",
        "model_nn.fit(x_train, y_train, batch_size=128, epochs=20, validation_data=(x_test, y_test))\n",
        "\n"
      ],
      "metadata": {
        "colab": {
          "base_uri": "https://localhost:8080/"
        },
        "id": "QzYjrPQFIiSl",
        "outputId": "b972683d-01be-4ef0-b07c-ffcf6d3224c6"
      },
      "execution_count": 12,
      "outputs": [
        {
          "output_type": "stream",
          "name": "stderr",
          "text": [
            "/usr/local/lib/python3.10/dist-packages/keras/optimizers/legacy/adam.py:117: UserWarning: The `lr` argument is deprecated, use `learning_rate` instead.\n",
            "  super().__init__(name, **kwargs)\n"
          ]
        },
        {
          "output_type": "stream",
          "name": "stdout",
          "text": [
            "Epoch 1/20\n",
            "469/469 [==============================] - 6s 12ms/step - loss: 0.2809 - accuracy: 0.9197 - val_loss: 0.1350 - val_accuracy: 0.9592\n",
            "Epoch 2/20\n",
            "469/469 [==============================] - 5s 10ms/step - loss: 0.1233 - accuracy: 0.9636 - val_loss: 0.0951 - val_accuracy: 0.9716\n",
            "Epoch 3/20\n",
            "469/469 [==============================] - 5s 10ms/step - loss: 0.0837 - accuracy: 0.9754 - val_loss: 0.0837 - val_accuracy: 0.9735\n",
            "Epoch 4/20\n",
            "469/469 [==============================] - 6s 14ms/step - loss: 0.0640 - accuracy: 0.9808 - val_loss: 0.0698 - val_accuracy: 0.9779\n",
            "Epoch 5/20\n",
            "469/469 [==============================] - 5s 10ms/step - loss: 0.0512 - accuracy: 0.9843 - val_loss: 0.0675 - val_accuracy: 0.9786\n",
            "Epoch 6/20\n",
            "469/469 [==============================] - 5s 10ms/step - loss: 0.0414 - accuracy: 0.9873 - val_loss: 0.0609 - val_accuracy: 0.9798\n",
            "Epoch 7/20\n",
            "469/469 [==============================] - 5s 11ms/step - loss: 0.0336 - accuracy: 0.9900 - val_loss: 0.0559 - val_accuracy: 0.9821\n",
            "Epoch 8/20\n",
            "469/469 [==============================] - 5s 10ms/step - loss: 0.0280 - accuracy: 0.9913 - val_loss: 0.0590 - val_accuracy: 0.9819\n",
            "Epoch 9/20\n",
            "469/469 [==============================] - 6s 12ms/step - loss: 0.0247 - accuracy: 0.9920 - val_loss: 0.0557 - val_accuracy: 0.9824\n",
            "Epoch 10/20\n",
            "469/469 [==============================] - 5s 10ms/step - loss: 0.0209 - accuracy: 0.9937 - val_loss: 0.0593 - val_accuracy: 0.9819\n",
            "Epoch 11/20\n",
            "469/469 [==============================] - 5s 10ms/step - loss: 0.0172 - accuracy: 0.9948 - val_loss: 0.0615 - val_accuracy: 0.9824\n",
            "Epoch 12/20\n",
            "469/469 [==============================] - 6s 12ms/step - loss: 0.0154 - accuracy: 0.9952 - val_loss: 0.0591 - val_accuracy: 0.9819\n",
            "Epoch 13/20\n",
            "469/469 [==============================] - 4s 10ms/step - loss: 0.0142 - accuracy: 0.9956 - val_loss: 0.0636 - val_accuracy: 0.9819\n",
            "Epoch 14/20\n",
            "469/469 [==============================] - 5s 10ms/step - loss: 0.0124 - accuracy: 0.9958 - val_loss: 0.0611 - val_accuracy: 0.9829\n",
            "Epoch 15/20\n",
            "469/469 [==============================] - 5s 11ms/step - loss: 0.0117 - accuracy: 0.9966 - val_loss: 0.0602 - val_accuracy: 0.9832\n",
            "Epoch 16/20\n",
            "469/469 [==============================] - 5s 10ms/step - loss: 0.0122 - accuracy: 0.9959 - val_loss: 0.0622 - val_accuracy: 0.9834\n",
            "Epoch 17/20\n",
            "469/469 [==============================] - 6s 12ms/step - loss: 0.0117 - accuracy: 0.9959 - val_loss: 0.0627 - val_accuracy: 0.9843\n",
            "Epoch 18/20\n",
            "469/469 [==============================] - 4s 10ms/step - loss: 0.0100 - accuracy: 0.9968 - val_loss: 0.0646 - val_accuracy: 0.9846\n",
            "Epoch 19/20\n",
            "469/469 [==============================] - 5s 11ms/step - loss: 0.0082 - accuracy: 0.9976 - val_loss: 0.0644 - val_accuracy: 0.9826\n",
            "Epoch 20/20\n",
            "469/469 [==============================] - 6s 12ms/step - loss: 0.0083 - accuracy: 0.9973 - val_loss: 0.0662 - val_accuracy: 0.9820\n"
          ]
        },
        {
          "output_type": "execute_result",
          "data": {
            "text/plain": [
              "<keras.callbacks.History at 0x7f0229c80b50>"
            ]
          },
          "metadata": {},
          "execution_count": 12
        }
      ]
    },
    {
      "cell_type": "code",
      "source": [
        "# To Evaluate the neural network model on test data\n",
        "loss, accuracy = model_nn.evaluate(x_test, y_test)\n",
        "print('Neural Network Model Accuracy:', accuracy)\n",
        "\n",
        "# To Define the random forest classifier model\n",
        "model_rf = RandomForestClassifier(n_estimators=100, max_depth=20, random_state=2023)\n",
        "\n",
        "# To Train the random forest classifier model\n",
        "model_rf.fit(x_train, y_train)\n",
        "\n",
        "# To Evaluate the random forest classifier model on test data\n",
        "y_pred = model_rf.predict(x_test)\n",
        "accuracy = accuracy_score(y_test, y_pred)\n",
        "print('Random Forest Classifier Accuracy:', accuracy)\n",
        "conf_matrix = confusion_matrix(y_test, y_pred)\n",
        "print('Random Forest Classifier Confusion Matrix:\\n', conf_matrix)"
      ],
      "metadata": {
        "colab": {
          "base_uri": "https://localhost:8080/"
        },
        "id": "E9hcBzkvI-bb",
        "outputId": "e28c382c-8510-4ae1-8f25-d83a588deb41"
      },
      "execution_count": 13,
      "outputs": [
        {
          "output_type": "stream",
          "name": "stdout",
          "text": [
            "313/313 [==============================] - 1s 3ms/step - loss: 0.0662 - accuracy: 0.9820\n",
            "Neural Network Model Accuracy: 0.9819999933242798\n",
            "Random Forest Classifier Accuracy: 0.9668\n",
            "Random Forest Classifier Confusion Matrix:\n",
            " [[ 972    0    0    0    0    1    2    1    3    1]\n",
            " [   0 1122    2    4    1    2    2    0    1    1]\n",
            " [   6    0  996    7    3    0    4    8    8    0]\n",
            " [   1    0   13  966    0    9    0    9    8    4]\n",
            " [   1    0    1    0  951    0    5    1    3   20]\n",
            " [   3    1    0    9    3  862    7    1    4    2]\n",
            " [   8    3    2    0    5    4  933    0    3    0]\n",
            " [   1    5   20    2    4    0    0  978    3   15]\n",
            " [   5    0    6    7    3    6    5    3  927   12]\n",
            " [   4    6    1   12   11    4    1    3    6  961]]\n"
          ]
        }
      ]
    },
    {
      "cell_type": "code",
      "source": [
        "# To Define the parameters for grid search\n",
        "param_grid = {'n_estimators': [50, 100, 200], 'max_depth': [10, 20, None]}\n",
        "\n",
        "# To Define the grid search model\n",
        "model_gs = GridSearchCV(RandomForestClassifier(random_state=2023), param_grid, cv=5)\n",
        "\n",
        "# To Train the grid search model\n",
        "model_gs.fit(x_train, y_train)\n",
        "\n",
        "# To Evaluate the grid search model on test data\n",
        "y_pred = model_gs.predict(x_test)\n",
        "accuracy = accuracy_score(y_test, y_pred)\n",
        "print('Grid Search Model Accuracy:', accuracy)\n",
        "conf_matrix = confusion_matrix(y_test, y_pred)\n",
        "print('Grid Search Model Confusion Matrix:\\n', conf_matrix)"
      ],
      "metadata": {
        "colab": {
          "base_uri": "https://localhost:8080/"
        },
        "id": "fCSGTfBwJEPW",
        "outputId": "9260705a-8cd2-4cf5-fb88-29fa5417bb04"
      },
      "execution_count": 14,
      "outputs": [
        {
          "output_type": "stream",
          "name": "stdout",
          "text": [
            "Grid Search Model Accuracy: 0.9711\n",
            "Grid Search Model Confusion Matrix:\n",
            " [[ 972    0    0    0    0    1    2    1    4    0]\n",
            " [   0 1123    2    3    0    2    3    0    1    1]\n",
            " [   6    0 1002    4    2    0    4    8    6    0]\n",
            " [   1    0    9  974    0    6    0    9    8    3]\n",
            " [   1    0    1    0  957    0    6    0    2   15]\n",
            " [   3    0    0   13    4  858    6    1    4    3]\n",
            " [   7    3    0    0    4    4  938    0    2    0]\n",
            " [   1    2   17    1    1    0    0  993    1   12]\n",
            " [   5    0    4    8    4    4    5    4  931    9]\n",
            " [   7    6    2    9   10    3    1    4    4  963]]\n"
          ]
        }
      ]
    },
    {
      "cell_type": "markdown",
      "source": [
        "Neural Network Model performed best accuracy among all other models"
      ],
      "metadata": {
        "id": "bGrU-hPOXULc"
      }
    }
  ]
}