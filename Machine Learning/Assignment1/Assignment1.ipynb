{
  "nbformat": 4,
  "nbformat_minor": 0,
  "metadata": {
    "colab": {
      "provenance": []
    },
    "kernelspec": {
      "name": "python3",
      "display_name": "Python 3"
    },
    "language_info": {
      "name": "python"
    }
  },
  "cells": [
    {
      "cell_type": "markdown",
      "source": [
        "**Assignment 1**\n"
      ],
      "metadata": {
        "id": "ENvgBtWu_ZCS"
      }
    },
    {
      "cell_type": "markdown",
      "source": [
        "PART - 1"
      ],
      "metadata": {
        "id": "X7Hpq7gr_mUm"
      }
    },
    {
      "cell_type": "code",
      "execution_count": 58,
      "metadata": {
        "id": "Wsf1WCw4qom4"
      },
      "outputs": [],
      "source": [
        "import pandas as pd\n",
        "# To Load the diabetes dataset as a pandas dataframe\n",
        "\n",
        "diabetes_df=pd.read_csv(\"diabetes.csv\")"
      ]
    },
    {
      "cell_type": "code",
      "source": [
        "diabetes_df.describe()"
      ],
      "metadata": {
        "colab": {
          "base_uri": "https://localhost:8080/",
          "height": 364
        },
        "id": "lZbY2ciuqssu",
        "outputId": "f3a319ef-7724-4449-c1d7-1338297c562c"
      },
      "execution_count": 59,
      "outputs": [
        {
          "output_type": "execute_result",
          "data": {
            "text/plain": [
              "       Pregnancies     Glucose  BloodPressure  SkinThickness     Insulin  \\\n",
              "count   768.000000  768.000000     768.000000     768.000000  768.000000   \n",
              "mean      3.845052  120.894531      69.105469      20.536458   79.799479   \n",
              "std       3.369578   31.972618      19.355807      15.952218  115.244002   \n",
              "min       0.000000    0.000000       0.000000       0.000000    0.000000   \n",
              "25%       1.000000   99.000000      62.000000       0.000000    0.000000   \n",
              "50%       3.000000  117.000000      72.000000      23.000000   30.500000   \n",
              "75%       6.000000  140.250000      80.000000      32.000000  127.250000   \n",
              "max      17.000000  199.000000     122.000000      99.000000  846.000000   \n",
              "\n",
              "              BMI  DiabetesPedigreeFunction         Age     Outcome  \n",
              "count  768.000000                768.000000  768.000000  768.000000  \n",
              "mean    31.992578                  0.471876   33.240885    0.348958  \n",
              "std      7.884160                  0.331329   11.760232    0.476951  \n",
              "min      0.000000                  0.078000   21.000000    0.000000  \n",
              "25%     27.300000                  0.243750   24.000000    0.000000  \n",
              "50%     32.000000                  0.372500   29.000000    0.000000  \n",
              "75%     36.600000                  0.626250   41.000000    1.000000  \n",
              "max     67.100000                  2.420000   81.000000    1.000000  "
            ],
            "text/html": [
              "\n",
              "  <div id=\"df-6c2b5498-3061-41c6-9ef7-75d379168668\">\n",
              "    <div class=\"colab-df-container\">\n",
              "      <div>\n",
              "<style scoped>\n",
              "    .dataframe tbody tr th:only-of-type {\n",
              "        vertical-align: middle;\n",
              "    }\n",
              "\n",
              "    .dataframe tbody tr th {\n",
              "        vertical-align: top;\n",
              "    }\n",
              "\n",
              "    .dataframe thead th {\n",
              "        text-align: right;\n",
              "    }\n",
              "</style>\n",
              "<table border=\"1\" class=\"dataframe\">\n",
              "  <thead>\n",
              "    <tr style=\"text-align: right;\">\n",
              "      <th></th>\n",
              "      <th>Pregnancies</th>\n",
              "      <th>Glucose</th>\n",
              "      <th>BloodPressure</th>\n",
              "      <th>SkinThickness</th>\n",
              "      <th>Insulin</th>\n",
              "      <th>BMI</th>\n",
              "      <th>DiabetesPedigreeFunction</th>\n",
              "      <th>Age</th>\n",
              "      <th>Outcome</th>\n",
              "    </tr>\n",
              "  </thead>\n",
              "  <tbody>\n",
              "    <tr>\n",
              "      <th>count</th>\n",
              "      <td>768.000000</td>\n",
              "      <td>768.000000</td>\n",
              "      <td>768.000000</td>\n",
              "      <td>768.000000</td>\n",
              "      <td>768.000000</td>\n",
              "      <td>768.000000</td>\n",
              "      <td>768.000000</td>\n",
              "      <td>768.000000</td>\n",
              "      <td>768.000000</td>\n",
              "    </tr>\n",
              "    <tr>\n",
              "      <th>mean</th>\n",
              "      <td>3.845052</td>\n",
              "      <td>120.894531</td>\n",
              "      <td>69.105469</td>\n",
              "      <td>20.536458</td>\n",
              "      <td>79.799479</td>\n",
              "      <td>31.992578</td>\n",
              "      <td>0.471876</td>\n",
              "      <td>33.240885</td>\n",
              "      <td>0.348958</td>\n",
              "    </tr>\n",
              "    <tr>\n",
              "      <th>std</th>\n",
              "      <td>3.369578</td>\n",
              "      <td>31.972618</td>\n",
              "      <td>19.355807</td>\n",
              "      <td>15.952218</td>\n",
              "      <td>115.244002</td>\n",
              "      <td>7.884160</td>\n",
              "      <td>0.331329</td>\n",
              "      <td>11.760232</td>\n",
              "      <td>0.476951</td>\n",
              "    </tr>\n",
              "    <tr>\n",
              "      <th>min</th>\n",
              "      <td>0.000000</td>\n",
              "      <td>0.000000</td>\n",
              "      <td>0.000000</td>\n",
              "      <td>0.000000</td>\n",
              "      <td>0.000000</td>\n",
              "      <td>0.000000</td>\n",
              "      <td>0.078000</td>\n",
              "      <td>21.000000</td>\n",
              "      <td>0.000000</td>\n",
              "    </tr>\n",
              "    <tr>\n",
              "      <th>25%</th>\n",
              "      <td>1.000000</td>\n",
              "      <td>99.000000</td>\n",
              "      <td>62.000000</td>\n",
              "      <td>0.000000</td>\n",
              "      <td>0.000000</td>\n",
              "      <td>27.300000</td>\n",
              "      <td>0.243750</td>\n",
              "      <td>24.000000</td>\n",
              "      <td>0.000000</td>\n",
              "    </tr>\n",
              "    <tr>\n",
              "      <th>50%</th>\n",
              "      <td>3.000000</td>\n",
              "      <td>117.000000</td>\n",
              "      <td>72.000000</td>\n",
              "      <td>23.000000</td>\n",
              "      <td>30.500000</td>\n",
              "      <td>32.000000</td>\n",
              "      <td>0.372500</td>\n",
              "      <td>29.000000</td>\n",
              "      <td>0.000000</td>\n",
              "    </tr>\n",
              "    <tr>\n",
              "      <th>75%</th>\n",
              "      <td>6.000000</td>\n",
              "      <td>140.250000</td>\n",
              "      <td>80.000000</td>\n",
              "      <td>32.000000</td>\n",
              "      <td>127.250000</td>\n",
              "      <td>36.600000</td>\n",
              "      <td>0.626250</td>\n",
              "      <td>41.000000</td>\n",
              "      <td>1.000000</td>\n",
              "    </tr>\n",
              "    <tr>\n",
              "      <th>max</th>\n",
              "      <td>17.000000</td>\n",
              "      <td>199.000000</td>\n",
              "      <td>122.000000</td>\n",
              "      <td>99.000000</td>\n",
              "      <td>846.000000</td>\n",
              "      <td>67.100000</td>\n",
              "      <td>2.420000</td>\n",
              "      <td>81.000000</td>\n",
              "      <td>1.000000</td>\n",
              "    </tr>\n",
              "  </tbody>\n",
              "</table>\n",
              "</div>\n",
              "      <button class=\"colab-df-convert\" onclick=\"convertToInteractive('df-6c2b5498-3061-41c6-9ef7-75d379168668')\"\n",
              "              title=\"Convert this dataframe to an interactive table.\"\n",
              "              style=\"display:none;\">\n",
              "        \n",
              "  <svg xmlns=\"http://www.w3.org/2000/svg\" height=\"24px\"viewBox=\"0 0 24 24\"\n",
              "       width=\"24px\">\n",
              "    <path d=\"M0 0h24v24H0V0z\" fill=\"none\"/>\n",
              "    <path d=\"M18.56 5.44l.94 2.06.94-2.06 2.06-.94-2.06-.94-.94-2.06-.94 2.06-2.06.94zm-11 1L8.5 8.5l.94-2.06 2.06-.94-2.06-.94L8.5 2.5l-.94 2.06-2.06.94zm10 10l.94 2.06.94-2.06 2.06-.94-2.06-.94-.94-2.06-.94 2.06-2.06.94z\"/><path d=\"M17.41 7.96l-1.37-1.37c-.4-.4-.92-.59-1.43-.59-.52 0-1.04.2-1.43.59L10.3 9.45l-7.72 7.72c-.78.78-.78 2.05 0 2.83L4 21.41c.39.39.9.59 1.41.59.51 0 1.02-.2 1.41-.59l7.78-7.78 2.81-2.81c.8-.78.8-2.07 0-2.86zM5.41 20L4 18.59l7.72-7.72 1.47 1.35L5.41 20z\"/>\n",
              "  </svg>\n",
              "      </button>\n",
              "      \n",
              "  <style>\n",
              "    .colab-df-container {\n",
              "      display:flex;\n",
              "      flex-wrap:wrap;\n",
              "      gap: 12px;\n",
              "    }\n",
              "\n",
              "    .colab-df-convert {\n",
              "      background-color: #E8F0FE;\n",
              "      border: none;\n",
              "      border-radius: 50%;\n",
              "      cursor: pointer;\n",
              "      display: none;\n",
              "      fill: #1967D2;\n",
              "      height: 32px;\n",
              "      padding: 0 0 0 0;\n",
              "      width: 32px;\n",
              "    }\n",
              "\n",
              "    .colab-df-convert:hover {\n",
              "      background-color: #E2EBFA;\n",
              "      box-shadow: 0px 1px 2px rgba(60, 64, 67, 0.3), 0px 1px 3px 1px rgba(60, 64, 67, 0.15);\n",
              "      fill: #174EA6;\n",
              "    }\n",
              "\n",
              "    [theme=dark] .colab-df-convert {\n",
              "      background-color: #3B4455;\n",
              "      fill: #D2E3FC;\n",
              "    }\n",
              "\n",
              "    [theme=dark] .colab-df-convert:hover {\n",
              "      background-color: #434B5C;\n",
              "      box-shadow: 0px 1px 3px 1px rgba(0, 0, 0, 0.15);\n",
              "      filter: drop-shadow(0px 1px 2px rgba(0, 0, 0, 0.3));\n",
              "      fill: #FFFFFF;\n",
              "    }\n",
              "  </style>\n",
              "\n",
              "      <script>\n",
              "        const buttonEl =\n",
              "          document.querySelector('#df-6c2b5498-3061-41c6-9ef7-75d379168668 button.colab-df-convert');\n",
              "        buttonEl.style.display =\n",
              "          google.colab.kernel.accessAllowed ? 'block' : 'none';\n",
              "\n",
              "        async function convertToInteractive(key) {\n",
              "          const element = document.querySelector('#df-6c2b5498-3061-41c6-9ef7-75d379168668');\n",
              "          const dataTable =\n",
              "            await google.colab.kernel.invokeFunction('convertToInteractive',\n",
              "                                                     [key], {});\n",
              "          if (!dataTable) return;\n",
              "\n",
              "          const docLinkHtml = 'Like what you see? Visit the ' +\n",
              "            '<a target=\"_blank\" href=https://colab.research.google.com/notebooks/data_table.ipynb>data table notebook</a>'\n",
              "            + ' to learn more about interactive tables.';\n",
              "          element.innerHTML = '';\n",
              "          dataTable['output_type'] = 'display_data';\n",
              "          await google.colab.output.renderOutput(dataTable, element);\n",
              "          const docLink = document.createElement('div');\n",
              "          docLink.innerHTML = docLinkHtml;\n",
              "          element.appendChild(docLink);\n",
              "        }\n",
              "      </script>\n",
              "    </div>\n",
              "  </div>\n",
              "  "
            ]
          },
          "metadata": {},
          "execution_count": 59
        }
      ]
    },
    {
      "cell_type": "code",
      "source": [
        "X = diabetes_df.iloc[:, :-1].values\n",
        "y = diabetes_df.iloc[:, -1].values"
      ],
      "metadata": {
        "id": "6zSKflUnquq6"
      },
      "execution_count": 60,
      "outputs": []
    },
    {
      "cell_type": "code",
      "source": [
        "import numpy as np \n",
        "\n",
        "# Scale data using standard scaler\n",
        "class StandardScaler:\n",
        "    def __init__(self):\n",
        "        self.mean_ = None\n",
        "        self.std_ = None\n",
        "\n",
        "    def fit(self, X):\n",
        "        self.mean_ = np.mean(X, axis=0)\n",
        "        self.std_ = np.std(X, axis=0)\n",
        "\n",
        "    def transform(self, X):\n",
        "        return (X - self.mean_) / self.std_\n",
        "\n",
        "scaler = StandardScaler()\n",
        "scaler.fit(X)\n",
        "X_scaled = scaler.transform(X)"
      ],
      "metadata": {
        "id": "9vNyHgOrqwBL"
      },
      "execution_count": 61,
      "outputs": []
    },
    {
      "cell_type": "code",
      "source": [
        "# To Split the dataset into training and testing\n",
        "from sklearn.model_selection import train_test_split\n",
        "\n",
        "X_train, X_test, y_train, y_test = train_test_split(X_scaled, y, test_size=0.2, random_state=42)\n"
      ],
      "metadata": {
        "id": "m5Un2049q4T5"
      },
      "execution_count": 62,
      "outputs": []
    },
    {
      "cell_type": "code",
      "source": [
        "from sklearn.neighbors import KNeighborsClassifier\n",
        "import matplotlib.pyplot as plt\n",
        "\n",
        "# To Determine the K value, and create a visualization of the accuracy, Report the best K value\n",
        "k_range = range(1, 21)\n",
        "scores = []\n",
        "best_score = 0\n",
        "best_k = 0\n",
        "for k in k_range:\n",
        "    knn = KNeighborsClassifier(n_neighbors=k)\n",
        "    knn.fit(X_train, y_train)\n",
        "    score = knn.score(X_test, y_test)\n",
        "    print(score,k)\n",
        "    scores.append(score)\n",
        "    if score > best_score:\n",
        "        best_score = score\n",
        "        best_k = k\n",
        "\n",
        "plt.plot(k_range, scores)\n",
        "plt.xlabel('K')\n",
        "plt.ylabel('Accuracy')\n",
        "plt.title('KNN accuracy')\n",
        "plt.show()\n",
        "\n",
        "print(\"Best K value:\", best_k)"
      ],
      "metadata": {
        "colab": {
          "base_uri": "https://localhost:8080/",
          "height": 659
        },
        "id": "mpQRzvNKq5jP",
        "outputId": "04b62b2a-6da9-48f8-94c8-cdf688546d43"
      },
      "execution_count": 63,
      "outputs": [
        {
          "output_type": "stream",
          "name": "stdout",
          "text": [
            "0.6168831168831169 1\n",
            "0.6558441558441559 2\n",
            "0.7012987012987013 3\n",
            "0.6948051948051948 4\n",
            "0.6883116883116883 5\n",
            "0.7012987012987013 6\n",
            "0.6818181818181818 7\n",
            "0.6883116883116883 8\n",
            "0.6818181818181818 9\n",
            "0.6818181818181818 10\n",
            "0.7142857142857143 11\n",
            "0.7207792207792207 12\n",
            "0.7142857142857143 13\n",
            "0.7207792207792207 14\n",
            "0.7207792207792207 15\n",
            "0.7467532467532467 16\n",
            "0.7532467532467533 17\n",
            "0.7662337662337663 18\n",
            "0.7597402597402597 19\n",
            "0.7597402597402597 20\n"
          ]
        },
        {
          "output_type": "display_data",
          "data": {
            "text/plain": [
              "<Figure size 432x288 with 1 Axes>"
            ],
            "image/png": "[encoded data removed]"
          },
          "metadata": {
            "needs_background": "light"
          }
        },
        {
          "output_type": "stream",
          "name": "stdout",
          "text": [
            "Best K value: 18\n"
          ]
        }
      ]
    },
    {
      "cell_type": "code",
      "source": [
        "from sklearn.model_selection import cross_val_score\n",
        "from sklearn.metrics import accuracy_score\n",
        "# To Run 5 fold cross validations - report mean and standard deviation\n",
        "knn = KNeighborsClassifier(n_neighbors=best_k)\n",
        "scores = cross_val_score(knn, X_scaled, y, cv=5)\n",
        "knn.fit(X_train, y_train)\n",
        "knn_pred = knn.predict(X_test)\n",
        "knn_accuracy = accuracy_score(y_test, knn_pred)\n",
        "print(\"5-fold cross-validation scores: \", scores)\n",
        "print(\"Mean score: \", np.mean(scores))\n",
        "print(\"Standard deviation: \", np.std(scores))\n",
        "print(\"KNN accuracy: \", knn_accuracy)"
      ],
      "metadata": {
        "colab": {
          "base_uri": "https://localhost:8080/"
        },
        "id": "5G_4--yvq6wd",
        "outputId": "c2da4544-de5e-4b11-e9f4-99f47754b583"
      },
      "execution_count": 64,
      "outputs": [
        {
          "output_type": "stream",
          "name": "stdout",
          "text": [
            "5-fold cross-validation scores:  [0.75974026 0.72077922 0.75324675 0.78431373 0.75816993]\n",
            "Mean score:  0.7552499787793905\n",
            "Standard deviation:  0.020325531765979676\n",
            "KNN accuracy:  0.7662337662337663\n"
          ]
        }
      ]
    },
    {
      "cell_type": "code",
      "source": [
        "from sklearn.metrics import confusion_matrix\n",
        "from sklearn.metrics._plot.confusion_matrix import confusion_matrix\n",
        "from sklearn.metrics import ConfusionMatrixDisplay\n",
        "# To Evaluate using confusion matrix\n",
        "knn.fit(X_train, y_train)\n",
        "y_pred = knn.predict(X_test)\n",
        "cm = confusion_matrix(y_test, y_pred)\n",
        "ConfusionMatrixDisplay.from_predictions(y_test, y_pred)\n",
        "print(\"Confusion matrix:\\n\", cm)\n",
        "plt.title(\"Confusion matrix for KNN\")\n",
        "plt.show()"
      ],
      "metadata": {
        "colab": {
          "base_uri": "https://localhost:8080/",
          "height": 347
        },
        "id": "0PGTee0Sq8Qk",
        "outputId": "bca35255-21a5-468c-8a24-ca73493a61b7"
      },
      "execution_count": 65,
      "outputs": [
        {
          "output_type": "stream",
          "name": "stdout",
          "text": [
            "Confusion matrix:\n",
            " [[89 10]\n",
            " [26 29]]\n"
          ]
        },
        {
          "output_type": "display_data",
          "data": {
            "text/plain": [
              "<Figure size 432x288 with 2 Axes>"
            ],
            "image/png": "[encoded data removed]"
          },
          "metadata": {
            "needs_background": "light"
          }
        }
      ]
    },
    {
      "cell_type": "markdown",
      "source": [
        "The KNN model has an accuracy of 0.7662337662337663 on the test set, and the best K value was 18. The 5-fold cross validation showed a mean accuracy of 0.755244, indicating that the model is not overfitting or underfitting. the confusion matrix shows that the classifier correctly classified 118 out of 154 patients, which is an accuracy of 76.62%. The classifier had a higher accuracy in correctly identifying patients who did not have diabetes (89 true negatives out of 99 actual negatives, or 89.90%) than in correctly identifying patients who did have diabetes (29 true positives out of 55 actual positives, or 52.73%). which is a reasonable performance considering the class imbalance in the dataset. However, the model could benefit from more data and feature engineering to improve its performance."
      ],
      "metadata": {
        "id": "5y_Egu3z_5QP"
      }
    },
    {
      "cell_type": "markdown",
      "source": [
        "**PART - 2**"
      ],
      "metadata": {
        "id": "XVSxtYCkoH4g"
      }
    },
    {
      "cell_type": "code",
      "source": [
        "from sklearn.naive_bayes import GaussianNB, MultinomialNB, BernoulliNB\n",
        "\n",
        "# Gaussian Naive Bayes\n",
        "gnb = GaussianNB()\n",
        "gnb_scores = cross_val_score(gnb, X_train, y_train, cv=5)\n",
        "gnb_mean_score = gnb_scores.mean()\n",
        "gnb_std_score = gnb_scores.std()\n",
        "\n",
        "# Multinomial Naive Bayes\n",
        "mnb = MultinomialNB()\n",
        "mnb_scores = cross_val_score(mnb, X,y , cv=5)\n",
        "mnb_mean_score = mnb_scores.mean()\n",
        "mnb_std_score = mnb_scores.std()\n",
        "\n",
        "# Bernoulli Naive Bayes\n",
        "bnb = BernoulliNB()\n",
        "bnb_scores = cross_val_score(bnb, X_train, y_train, cv=5)\n",
        "bnb_mean_score = bnb_scores.mean()\n",
        "bnb_std_score = bnb_scores.std()"
      ],
      "metadata": {
        "id": "St0MI6cZ0SQa"
      },
      "execution_count": 66,
      "outputs": []
    },
    {
      "cell_type": "code",
      "source": [
        "# To Print mean and standard deviation scores\n",
        "print(\"Gaussian Naive Bayes\")\n",
        "print(\"Mean score: \", gnb_mean_score)\n",
        "print(\"Standard deviation: \", gnb_std_score)\n",
        "print(\"\")\n",
        "\n",
        "print(\"Multinomial Naive Bayes\")\n",
        "print(\"Mean score: \", mnb_mean_score)\n",
        "print(\"Standard deviation: \", mnb_std_score)\n",
        "print(\"\")\n",
        "\n",
        "print(\"Bernoulli Naive Bayes\")\n",
        "print(\"Mean score: \", bnb_mean_score)\n",
        "print(\"Standard deviation: \", bnb_std_score)"
      ],
      "metadata": {
        "colab": {
          "base_uri": "https://localhost:8080/"
        },
        "id": "sFPWNFal2AYr",
        "outputId": "e653a538-be95-4d20-bebc-913f798dc692"
      },
      "execution_count": 67,
      "outputs": [
        {
          "output_type": "stream",
          "name": "stdout",
          "text": [
            "Gaussian Naive Bayes\n",
            "Mean score:  0.752472344395575\n",
            "Standard deviation:  0.02724256676945743\n",
            "\n",
            "Multinomial Naive Bayes\n",
            "Mean score:  0.5937017231134878\n",
            "Standard deviation:  0.03474118413561096\n",
            "\n",
            "Bernoulli Naive Bayes\n",
            "Mean score:  0.7230974276955884\n",
            "Standard deviation:  0.02335187687352885\n"
          ]
        }
      ]
    },
    {
      "cell_type": "code",
      "source": [
        "# To Fit models on full training set and evaluate on holdout set\n",
        "gnb.fit(X_train, y_train)\n",
        "mnb.fit(X, y)\n",
        "bnb.fit(X_train, y_train)\n",
        "\n",
        "gnb_y_pred = gnb.predict(X_test)\n",
        "mnb_y_pred = mnb.predict(X_test)\n",
        "bnb_y_pred = bnb.predict(X_test)\n",
        "\n",
        "gnb_acc = accuracy_score(y_test, gnb_y_pred)\n",
        "mnb_acc = accuracy_score(y_test, mnb_y_pred)\n",
        "bnb_acc = accuracy_score(y_test, bnb_y_pred)\n",
        "\n",
        "gnb_conf_mat = confusion_matrix(y_test, gnb_y_pred)\n",
        "mnb_conf_mat = confusion_matrix(y_test, mnb_y_pred)\n",
        "bnb_conf_mat = confusion_matrix(y_test, bnb_y_pred)\n",
        "\n",
        "print(\"GaussianNB accuracy on holdout set:\", gnb_acc)\n",
        "print(\"Confusion matrix:\\n\", gnb_conf_mat)\n",
        "\n",
        "print(\"MultinomialNB accuracy on holdout set:\", mnb_acc)\n",
        "print(\"Confusion matrix:\\n\", mnb_conf_mat)\n",
        "\n",
        "print(\"BernoulliNB accuracy on holdout set:\", bnb_acc)\n",
        "print(\"Confusion matrix:\\n\", bnb_conf_mat)"
      ],
      "metadata": {
        "colab": {
          "base_uri": "https://localhost:8080/"
        },
        "id": "yy80B4jQqfRY",
        "outputId": "0ede3706-8bce-445e-db04-de42b06857e9"
      },
      "execution_count": 68,
      "outputs": [
        {
          "output_type": "stream",
          "name": "stdout",
          "text": [
            "GaussianNB accuracy on holdout set: 0.7662337662337663\n",
            "Confusion matrix:\n",
            " [[79 20]\n",
            " [16 39]]\n",
            "MultinomialNB accuracy on holdout set: 0.6493506493506493\n",
            "Confusion matrix:\n",
            " [[95  4]\n",
            " [50  5]]\n",
            "BernoulliNB accuracy on holdout set: 0.6623376623376623\n",
            "Confusion matrix:\n",
            " [[71 28]\n",
            " [24 31]]\n"
          ]
        }
      ]
    },
    {
      "cell_type": "markdown",
      "source": [
        "**Gaussian Naive Bayes:** It is a probabilistic classification algorithm based on application of\n",
        "Bayes' theorem with a strong assumption of independence. This classifier is used when predictor\n",
        "values are expected to be continuous and follow a Gaussian distribution.\n",
        "\n",
        "The 5-fold cross-validation results show that GaussianNB has a mean accuracy of 0.752472344395575 and a standard deviation of 0.02724256676945743, which shows that it's accurate. The test set evaluation confirms this, with an accuracy score of 0.766, indicating that GaussianNB is able to classify the diabetes dataset with good accuracy."
      ],
      "metadata": {
        "id": "A3rYhV_ooYF6"
      }
    },
    {
      "cell_type": "markdown",
      "source": [
        "**The Multinomial Naive Bayes algorithm:** It is a probabilistic learning technique primarily used in natural language processing (NLP).\n",
        "\n",
        "The 5-fold cross-validation results for MultinomialNB are poor, with a mean accuracy of 0.5937017231134878 and a high standard deviation of 0.03474118413561096. The test set evaluation confirms this, with an accuracy score of only 0.64, which is the lowest of the three models. Therefore, MultinomialNB is not a good fit for the our dataset."
      ],
      "metadata": {
        "id": "ulzn7ewdrTlb"
      }
    },
    {
      "cell_type": "markdown",
      "source": [
        "**Bernoulli Naive Bayes:** It is part of the Naive Bayes family. Based on the Bernoulli distribution and only accepts binary values.\n",
        "\n",
        "The 5-fold cross-validation results for BernoulliNB show a mean accuracy of 0.7230974276955884 and a high standard deviation of 0.02335187687352885, which confirms that it is not a good fit for this dataset. The test set evaluation confirms this, with an accuracy score of only 0.66, which is the lowest of the three models."
      ],
      "metadata": {
        "id": "mM_VtlDNuwKN"
      }
    },
    {
      "cell_type": "markdown",
      "source": [
        "The results of the 5-fold cross-validation and the test set evaluation, we can say that Gaussian Naive Bayes is the best model for the diabetes dataset."
      ],
      "metadata": {
        "id": "ri5RkxnDvSDa"
      }
    },
    {
      "cell_type": "markdown",
      "source": [
        "**PART - 3**"
      ],
      "metadata": {
        "id": "YnBijOq_vZTo"
      }
    },
    {
      "cell_type": "code",
      "source": [
        "from sklearn.model_selection import LeaveOneOut"
      ],
      "metadata": {
        "id": "XqTMzgxc2CU-"
      },
      "execution_count": 69,
      "outputs": []
    },
    {
      "cell_type": "code",
      "source": [
        "# To Create Leave-One-Out object\n",
        "loo = LeaveOneOut()\n",
        "\n",
        "# Gaussian Naive Bayes\n",
        "gnb = GaussianNB()\n",
        "gnb_scores = cross_val_score(gnb, X_train, y_train, cv=loo)\n",
        "gnb.fit(X_train, y_train)\n",
        "gnb_mean_score = gnb_scores.mean()\n",
        "gnb_std_score = gnb_scores.std()\n",
        "gnb_pred = gnb.predict(X_test)\n",
        "gnb_accuracy = accuracy_score(y_test, gnb_pred)\n",
        "\n",
        "#Knn\n",
        "knn = KNeighborsClassifier(n_neighbors=5)\n",
        "scores = cross_val_score(knn, X_scaled, y, cv=loo)\n",
        "knn.fit(X_train, y_train)\n",
        "knn_mean = scores.mean()\n",
        "knn_std = scores.std()\n",
        "knn_pred = knn.predict(X_test)\n",
        "knn_accuracy = accuracy_score(y_test, knn_pred)\n"
      ],
      "metadata": {
        "id": "SWoSNuXO2EdD"
      },
      "execution_count": 70,
      "outputs": []
    },
    {
      "cell_type": "code",
      "source": [
        "# To Print mean and standard deviation scores\n",
        "print(\"Gaussian Naive Bayes\")\n",
        "print(\"Mean score: \", gnb_mean_score)\n",
        "print(\"Standard deviation: \", gnb_std_score)\n",
        "print(\"Accuracy:\", gnb_accuracy)\n",
        "print(\"\")\n",
        "\n",
        "print(\"KNN\")\n",
        "print(\"Mean score: \", knn_mean)\n",
        "print(\"Standard deviation: \", knn_std)\n",
        "print(\"Accuracy:\", knn_accuracy)"
      ],
      "metadata": {
        "colab": {
          "base_uri": "https://localhost:8080/"
        },
        "id": "nS5KEFc92GYw",
        "outputId": "44a39eba-1161-431c-bea9-97496ea71d46"
      },
      "execution_count": 71,
      "outputs": [
        {
          "output_type": "stream",
          "name": "stdout",
          "text": [
            "Gaussian Naive Bayes\n",
            "Mean score:  0.7328990228013029\n",
            "Standard deviation:  0.44244552792202363\n",
            "Accuracy: 0.7662337662337663\n",
            "\n",
            "KNN\n",
            "Mean score:  0.7421875\n",
            "Standard deviation:  0.43743023997404434\n",
            "Accuracy: 0.6883116883116883\n"
          ]
        }
      ]
    },
    {
      "cell_type": "markdown",
      "source": [
        "A notable change in non-skipped cross-validation is that it uses all but one data point for training and the remaining points for testing, resulting in a more accurate estimate of model performance than traditional cross-validation. there is. However, training the model takes more time as you train the model for each individual data point.\n",
        "\n",
        "For KNN classifiers using leave-one-out cross-validation, you can expect more accurate estimates of model performance than traditional cross-validation, but it also takes longer to train. The same is true for the Naive Bayes classifier. "
      ],
      "metadata": {
        "id": "qwi644djwpJt"
      }
    },
    {
      "cell_type": "markdown",
      "source": [
        "**PART - 4**"
      ],
      "metadata": {
        "id": "oygBQwstxISI"
      }
    },
    {
      "cell_type": "markdown",
      "source": [
        "Based on the results of our analysis, we can see that both the KNN classifier and the naive Bayes classifier performed fairly well on the Pima Indian diabetes dataset. However, there are some differences in the performance of the two models. \n"
      ],
      "metadata": {
        "id": "VV6r3us1xYka"
      }
    },
    {
      "cell_type": "markdown",
      "source": [
        "The KNN classifier achieved an average accuracy of 74.2% with a standard deviation of 0.437%, while the best performing Naive Bayes model, GaussianNB, achieved an average accuracy of 73.2% with a standard deviation of 0.442%. bottom. Although the difference in accuracy between the two models is relatively small, the KNN classifier performed slightly better on average. "
      ],
      "metadata": {
        "id": "HIiVO0gFxczW"
      }
    },
    {
      "cell_type": "markdown",
      "source": [
        "Because the KNN classifier performed slightly better, let's select it as our final model and retrain it using all the data available."
      ],
      "metadata": {
        "id": "1fRJSAH4zPKg"
      }
    },
    {
      "cell_type": "code",
      "source": [
        "# create and train the KNN classifier\n",
        "knn = KNeighborsClassifier(n_neighbors=8)\n",
        "knn.fit(X_scaled, y)\n",
        "y_pred = knn.predict(X_scaled)\n",
        "accuracy = accuracy_score(y, y_pred)\n",
        "print(\"Accuracy on entire dataset: {:.3f}\".format(accuracy))"
      ],
      "metadata": {
        "colab": {
          "base_uri": "https://localhost:8080/"
        },
        "id": "nJv0e4X62TNS",
        "outputId": "ade47f43-ab0b-419c-85c7-ee08933df954"
      },
      "execution_count": 72,
      "outputs": [
        {
          "output_type": "stream",
          "name": "stdout",
          "text": [
            "Accuracy on entire dataset: 0.793\n"
          ]
        }
      ]
    }
  ]
}