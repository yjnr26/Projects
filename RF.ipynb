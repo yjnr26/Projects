{
  "nbformat": 4,
  "nbformat_minor": 0,
  "metadata": {
    "colab": {
      "provenance": []
    },
    "kernelspec": {
      "name": "python3",
      "display_name": "Python 3"
    },
    "language_info": {
      "name": "python"
    }
  },
  "cells": [
    {
      "cell_type": "code",
      "execution_count": 7,
      "metadata": {
        "id": "ONFkSYNY2B16"
      },
      "outputs": [],
      "source": [
        "param_grid = {\"n_estimators\": [10,50,100,500,1000,5000]}"
      ]
    },
    {
      "cell_type": "code",
      "source": [
        "import pandas as pd\n",
        "df=pd.read_csv('spam.csv')"
      ],
      "metadata": {
        "id": "TXgr5kr92IQX"
      },
      "execution_count": 8,
      "outputs": []
    },
    {
      "cell_type": "code",
      "source": [
        "from sklearn.model_selection import train_test_split\n",
        "x=df.drop(columns=[\"Class\"],axis=1)\n",
        "y=df[\"Class\"].values\n",
        "x_train,x_test,y_train,y_test=train_test_split(x,y, train_size=1000,random_state=44)"
      ],
      "metadata": {
        "id": "fX5TL1712Shq"
      },
      "execution_count": 9,
      "outputs": []
    },
    {
      "cell_type": "code",
      "source": [
        "from sklearn.ensemble import RandomForestClassifier\n",
        "classifier = RandomForestClassifier()\n",
        "from sklearn.model_selection import GridSearchCV\n",
        "grid_search = GridSearchCV(estimator = classifier, param_grid = param_grid, cv = 2, n_jobs = -1, verbose = 2)\n",
        "from sklearn.model_selection import train_test_split\n",
        "x_train,x_test,y_train,y_test=train_test_split(x,y, train_size=1000,random_state=44)\n",
        "classifier.fit(x_train, y_train)\n",
        "y_pred = classifier.predict(x_test)"
      ],
      "metadata": {
        "id": "jQVzqr9K2Tae"
      },
      "execution_count": 10,
      "outputs": []
    },
    {
      "cell_type": "code",
      "source": [
        "from sklearn.metrics import classification_report, confusion_matrix, accuracy_score\n",
        "\n",
        "print(confusion_matrix(y_test,y_pred))\n",
        "grid_search.fit(x_train, y_train)\n",
        "grid_search.best_params_"
      ],
      "metadata": {
        "colab": {
          "base_uri": "https://localhost:8080/"
        },
        "id": "n-4maWla2crD",
        "outputId": "e63619d1-e3ed-4ab5-9a8e-ec95551064d3"
      },
      "execution_count": 11,
      "outputs": [
        {
          "output_type": "stream",
          "name": "stdout",
          "text": [
            "[[2106   54]\n",
            " [ 186 1255]]\n",
            "Fitting 2 folds for each of 6 candidates, totalling 12 fits\n"
          ]
        },
        {
          "output_type": "execute_result",
          "data": {
            "text/plain": [
              "{'n_estimators': 100}"
            ]
          },
          "metadata": {},
          "execution_count": 11
        }
      ]
    },
    {
      "cell_type": "code",
      "source": [
        "from sklearn.model_selection import train_test_split\n",
        "x_train,x_test,y_train,y_test=train_test_split(x,y, train_size=1000,random_state=44)\n",
        "from sklearn.ensemble import RandomForestClassifier\n",
        "classifier = RandomForestClassifier(n_estimators=100,random_state=555,max_features=\"sqrt\")\n",
        "classifier.fit(x_train, y_train)\n",
        "y_pred=classifier.predict(x_test)\n",
        "# Confusion Matrix\n",
        "conf_mat = confusion_matrix(y_test,y_pred)\n",
        "true_positive = conf_mat[1][1]\n",
        "false_negative = conf_mat[1][0]\n",
        "false_positive= conf_mat[0][1] \n",
        "true_negative = conf_mat[0][0]"
      ],
      "metadata": {
        "id": "-3N-Rsig2fS_"
      },
      "execution_count": 12,
      "outputs": []
    },
    {
      "cell_type": "code",
      "source": [
        "from sklearn.metrics import classification_report\n",
        "from sklearn.metrics import confusion_matrix\n",
        "print(confusion_matrix(y_test,y_pred))\n",
        "print(classification_report(y_test,y_pred))\n",
        "print(\"Accuracy Score is:\",accuracy_score(y_test, y_pred))\n",
        "# Per class Accuracy for true positive.\n",
        "Per_class_acc_true_pos = true_positive/(true_positive+false_negative)\n",
        "print(\"Per_Class_Accuracy_True_Positive:\",Per_class_acc_true_pos)\n",
        "# Per class Accuracy for true negative.\n",
        "Per_class_acc_true_neg = true_negative/(false_positive+true_negative)\n",
        "print(\"Per_Class_Accuracy_True_Negative:\",Per_class_acc_true_neg)"
      ],
      "metadata": {
        "colab": {
          "base_uri": "https://localhost:8080/"
        },
        "id": "bvujbEXX2j-P",
        "outputId": "e3280bf1-fcf7-4da3-9277-1588dfda7373"
      },
      "execution_count": 13,
      "outputs": [
        {
          "output_type": "stream",
          "name": "stdout",
          "text": [
            "[[2102   58]\n",
            " [ 188 1253]]\n",
            "              precision    recall  f1-score   support\n",
            "\n",
            "         ham       0.92      0.97      0.94      2160\n",
            "        spam       0.96      0.87      0.91      1441\n",
            "\n",
            "    accuracy                           0.93      3601\n",
            "   macro avg       0.94      0.92      0.93      3601\n",
            "weighted avg       0.93      0.93      0.93      3601\n",
            "\n",
            "Accuracy Score is: 0.9316856428769786\n",
            "Per_Class_Accuracy_True_Positive: 0.8695350451075642\n",
            "Per_Class_Accuracy_True_Negative: 0.9731481481481481\n"
          ]
        }
      ]
    }
  ]
}